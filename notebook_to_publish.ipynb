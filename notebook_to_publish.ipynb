{
 "cells": [
  {
   "cell_type": "code",
   "execution_count": 1,
   "id": "269ad60d-377f-4469-aae1-8469948a1af3",
   "metadata": {},
   "outputs": [],
   "source": [
    "import numpy as np\n",
    "import matplotlib.pyplot as plt\n",
    "import matplotlib.ticker as mticker\n",
    "from matplotlib.collections import PatchCollection\n",
    "from matplotlib.patches import Rectangle\n",
    "import sys\n",
    "import pandas as pd\n",
    "import geopandas as gpd\n",
    "import xarray as xr\n",
    "import io, requests\n",
    "import cartopy.crs as ccrs\n",
    "import cartopy.feature as cfeature\n",
    "from cartopy.mpl.ticker import (LongitudeFormatter, LatitudeFormatter,\n",
    "                                LatitudeLocator)\n",
    "import glob\n",
    "import datetime\n",
    "from string import ascii_lowercase as alc\n",
    "\n",
    "import scipy.stats as stats\n",
    "from sklearn.model_selection import train_test_split\n",
    "\n",
    "from pyEDM import *\n",
    "\n",
    "### Just to remove warnings to prettify the notebook. \n",
    "import warnings\n",
    "warnings.filterwarnings(\"ignore\")"
   ]
  },
  {
   "cell_type": "markdown",
   "id": "0845317f-3347-421b-b669-3f75014bd784",
   "metadata": {},
   "source": [
    "---\n",
    "# Reading Data and exporting to NetCDFs\n",
    "## SSTS"
   ]
  },
  {
   "cell_type": "code",
   "execution_count": 2,
   "id": "3b2a06ff-3008-419c-93d0-811670009aed",
   "metadata": {},
   "outputs": [],
   "source": [
    "time_slice = slice('1963-10-01','2019-09-01')"
   ]
  },
  {
   "cell_type": "code",
   "execution_count": 4,
   "id": "67a5d0db-c598-4fb1-9f1c-6e4b9ff3afc2",
   "metadata": {},
   "outputs": [],
   "source": [
    "f = xr.open_dataset('../data/ERSST/sst.mnmean.nc')\n",
    "ssts = f.sel(time=time_slice)"
   ]
  },
  {
   "cell_type": "code",
   "execution_count": 5,
   "id": "6b0cf944-fa47-47d6-878a-a4095882c34b",
   "metadata": {},
   "outputs": [],
   "source": [
    "# For North Pacific Ocean\n",
    "ssts_np = ssts.sel(lon=slice(180,280), lat = slice(60,-20))\n",
    "\n",
    "# gb = ssts_np.sst.groupby('time.month')\n",
    "# clim_sst = gb.mean(dim='time')\n",
    "\n",
    "# anom = gb - clim_sst\n",
    "\n",
    "# remove monthly means from North Pacific SSTs\n",
    "ssta_np = xr.apply_ufunc(\n",
    "    lambda x, mean: x - mean, \n",
    "    ssts_np.sst.groupby('time.month'),\n",
    "    ssts_np.sst.groupby('time.month').mean(dim='time')\n",
    ").drop('month')"
   ]
  },
  {
   "cell_type": "code",
   "execution_count": null,
   "id": "100439e8-a827-4b64-85f0-9b9cce428dc1",
   "metadata": {},
   "outputs": [],
   "source": []
  }
 ],
 "metadata": {
  "kernelspec": {
   "display_name": "Python 3 (ipykernel)",
   "language": "python",
   "name": "python3"
  },
  "language_info": {
   "codemirror_mode": {
    "name": "ipython",
    "version": 3
   },
   "file_extension": ".py",
   "mimetype": "text/x-python",
   "name": "python",
   "nbconvert_exporter": "python",
   "pygments_lexer": "ipython3",
   "version": "3.9.18"
  }
 },
 "nbformat": 4,
 "nbformat_minor": 5
}
