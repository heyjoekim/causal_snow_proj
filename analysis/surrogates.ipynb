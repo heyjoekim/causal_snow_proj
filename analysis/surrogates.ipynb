{
 "cells": [
  {
   "cell_type": "code",
   "execution_count": 117,
   "id": "6630742e-1b89-4131-8f3e-7a83ac87ef2a",
   "metadata": {},
   "outputs": [],
   "source": [
    "import numpy as np\n",
    "import xarray as xr\n",
    "import pandas as pd\n",
    "import glob"
   ]
  },
  {
   "cell_type": "code",
   "execution_count": 104,
   "id": "cc5e7706-2756-47bf-8aec-76115e538299",
   "metadata": {},
   "outputs": [],
   "source": [
    "outputs_l1 = glob.glob('../outputs/surr/*tau1.csv')\n",
    "outputs_l3 = glob.glob('../outputs/surr/*tau3.csv')\n",
    "outputs_l6 = glob.glob('../outputs/surr/*tau6.csv')"
   ]
  },
  {
   "cell_type": "code",
   "execution_count": 109,
   "id": "eb023eea-4999-473e-ab24-3433ef05babf",
   "metadata": {},
   "outputs": [],
   "source": [
    "surr_l1_df = pd.DataFrame()\n",
    "for i in range(len(outputs_l1)):\n",
    "    df = pd.read_csv(outputs_l1[i])\n",
    "    surr_l1_df = pd.concat([surr_l1_df, df], axis=0)"
   ]
  },
  {
   "cell_type": "code",
   "execution_count": 113,
   "id": "255da948-036d-4c52-9194-e10e4bdc7003",
   "metadata": {},
   "outputs": [],
   "source": [
    "surr_l3_df = pd.DataFrame()\n",
    "for i in range(len(outputs_l3)):\n",
    "    df = pd.read_csv(outputs_l3[i])\n",
    "    surr_l3_df = pd.concat([surr_l3_df, df], axis=0)"
   ]
  },
  {
   "cell_type": "code",
   "execution_count": 114,
   "id": "e385ff06-0407-42b0-a7f6-e40bb0306670",
   "metadata": {},
   "outputs": [],
   "source": [
    "surr_l6_df = pd.DataFrame()\n",
    "for i in range(len(outputs_l6)):\n",
    "    df = pd.read_csv(outputs_l6[i])\n",
    "    surr_l6_df = pd.concat([surr_l6_df, df], axis=0)"
   ]
  },
  {
   "cell_type": "code",
   "execution_count": 121,
   "id": "229608bd-cbc9-4584-880a-2b0116fbc14d",
   "metadata": {},
   "outputs": [
    {
     "data": {
      "text/plain": [
       "array([-0.038   ,  0.140025])"
      ]
     },
     "execution_count": 121,
     "metadata": {},
     "output_type": "execute_result"
    }
   ],
   "source": [
    "np.percentile(surr_l1_df['rho'], [2.5, 97.5])"
   ]
  },
  {
   "cell_type": "code",
   "execution_count": 122,
   "id": "b9612d51-24e3-46d9-877c-47c966eb0d41",
   "metadata": {},
   "outputs": [
    {
     "data": {
      "text/plain": [
       "array([-0.022   ,  0.211025])"
      ]
     },
     "execution_count": 122,
     "metadata": {},
     "output_type": "execute_result"
    }
   ],
   "source": [
    "np.percentile(surr_l3_df['rho'], [2.5, 97.5])"
   ]
  },
  {
   "cell_type": "code",
   "execution_count": 123,
   "id": "e2a8b529-480f-4fab-8d56-afe41f2432d3",
   "metadata": {},
   "outputs": [
    {
     "data": {
      "text/plain": [
       "array([-0.013025,  0.250025])"
      ]
     },
     "execution_count": 123,
     "metadata": {},
     "output_type": "execute_result"
    }
   ],
   "source": [
    "np.percentile(surr_l6_df['rho'], [2.5, 97.5])"
   ]
  },
  {
   "cell_type": "code",
   "execution_count": 129,
   "id": "08bc3fba-161f-4910-860a-013aebf6b599",
   "metadata": {},
   "outputs": [
    {
     "data": {
      "text/plain": [
       "0.038005000000000004"
      ]
     },
     "execution_count": 129,
     "metadata": {},
     "output_type": "execute_result"
    }
   ],
   "source": [
    "surr_l1_df['rho'].mean()"
   ]
  },
  {
   "cell_type": "code",
   "execution_count": 130,
   "id": "12a3f8a8-1c42-4f1d-86fa-8464cb6d934a",
   "metadata": {},
   "outputs": [
    {
     "data": {
      "text/plain": [
       "0.06865083333333333"
      ]
     },
     "execution_count": 130,
     "metadata": {},
     "output_type": "execute_result"
    }
   ],
   "source": [
    "surr_l3_df['rho'].mean()"
   ]
  },
  {
   "cell_type": "code",
   "execution_count": 131,
   "id": "d2085727-7e7b-4fab-828f-536e54f696cf",
   "metadata": {},
   "outputs": [
    {
     "data": {
      "text/plain": [
       "0.07691"
      ]
     },
     "execution_count": 131,
     "metadata": {},
     "output_type": "execute_result"
    }
   ],
   "source": [
    "surr_l6_df['rho'].mean()"
   ]
  }
 ],
 "metadata": {
  "kernelspec": {
   "display_name": "Python 3 (ipykernel)",
   "language": "python",
   "name": "python3"
  },
  "language_info": {
   "codemirror_mode": {
    "name": "ipython",
    "version": 3
   },
   "file_extension": ".py",
   "mimetype": "text/x-python",
   "name": "python",
   "nbconvert_exporter": "python",
   "pygments_lexer": "ipython3",
   "version": "3.9.18"
  }
 },
 "nbformat": 4,
 "nbformat_minor": 5
}
