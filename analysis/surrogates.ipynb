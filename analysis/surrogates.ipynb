{
 "cells": [
  {
   "cell_type": "code",
   "execution_count": 117,
   "id": "6630742e-1b89-4131-8f3e-7a83ac87ef2a",
   "metadata": {},
   "outputs": [],
   "source": [
    "import numpy as np\n",
    "import xarray as xr\n",
    "import pandas as pd\n",
    "import glob"
   ]
  },
  {
   "cell_type": "markdown",
   "id": "fb40e187-8e87-48db-963d-848a6415b0e3",
   "metadata": {},
   "source": [
    "## SST Confidence Tresholds"
   ]
  },
  {
   "cell_type": "code",
   "execution_count": 104,
   "id": "cc5e7706-2756-47bf-8aec-76115e538299",
   "metadata": {},
   "outputs": [],
   "source": [
    "outputs_l1 = glob.glob('../outputs/surr/*tau1.csv')\n",
    "outputs_l3 = glob.glob('../outputs/surr/*tau3.csv')\n",
    "outputs_l6 = glob.glob('../outputs/surr/*tau6.csv')"
   ]
  },
  {
   "cell_type": "code",
   "execution_count": 109,
   "id": "eb023eea-4999-473e-ab24-3433ef05babf",
   "metadata": {},
   "outputs": [],
   "source": [
    "surr_l1_df = pd.DataFrame()\n",
    "for i in range(len(outputs_l1)):\n",
    "    df = pd.read_csv(outputs_l1[i])\n",
    "    surr_l1_df = pd.concat([surr_l1_df, df], axis=0)"
   ]
  },
  {
   "cell_type": "code",
   "execution_count": 113,
   "id": "255da948-036d-4c52-9194-e10e4bdc7003",
   "metadata": {},
   "outputs": [],
   "source": [
    "surr_l3_df = pd.DataFrame()\n",
    "for i in range(len(outputs_l3)):\n",
    "    df = pd.read_csv(outputs_l3[i])\n",
    "    surr_l3_df = pd.concat([surr_l3_df, df], axis=0)"
   ]
  },
  {
   "cell_type": "code",
   "execution_count": 114,
   "id": "e385ff06-0407-42b0-a7f6-e40bb0306670",
   "metadata": {},
   "outputs": [],
   "source": [
    "surr_l6_df = pd.DataFrame()\n",
    "for i in range(len(outputs_l6)):\n",
    "    df = pd.read_csv(outputs_l6[i])\n",
    "    surr_l6_df = pd.concat([surr_l6_df, df], axis=0)"
   ]
  },
  {
   "cell_type": "code",
   "execution_count": 162,
   "id": "229608bd-cbc9-4584-880a-2b0116fbc14d",
   "metadata": {},
   "outputs": [
    {
     "name": "stdout",
     "output_type": "stream",
     "text": [
      "Lag 1 Mean: 0.038\n",
      "Lag 1 CI: [-0.038     0.140025]\n"
     ]
    }
   ],
   "source": [
    "print('Lag 1 Mean: {:.3f}'.format(surr_l1_df['rho'].mean()))\n",
    "print('Lag 1 CI: {}'.format(np.percentile(surr_l1_df['rho'], [2.5, 97.5])))"
   ]
  },
  {
   "cell_type": "code",
   "execution_count": 164,
   "id": "b9612d51-24e3-46d9-877c-47c966eb0d41",
   "metadata": {},
   "outputs": [
    {
     "name": "stdout",
     "output_type": "stream",
     "text": [
      "Lag 3 Mean: 0.069\n",
      "Lag 3 CI: [-0.022     0.211025]\n"
     ]
    }
   ],
   "source": [
    "print('Lag 3 Mean: {:.3f}'.format(surr_l3_df['rho'].mean()))\n",
    "print('Lag 3 CI: {}'.format(np.percentile(surr_l3_df['rho'], [2.5, 97.5])))"
   ]
  },
  {
   "cell_type": "code",
   "execution_count": 163,
   "id": "08bc3fba-161f-4910-860a-013aebf6b599",
   "metadata": {},
   "outputs": [
    {
     "name": "stdout",
     "output_type": "stream",
     "text": [
      "Lag 6 Mean: 0.077\n",
      "Lag 6 CI: [-0.013025  0.250025]\n"
     ]
    }
   ],
   "source": [
    "print('Lag 6 Mean: {:.3f}'.format(surr_l6_df['rho'].mean()))\n",
    "print('Lag 6 CI: {}'.format(np.percentile(surr_l6_df['rho'], [2.5, 97.5])))"
   ]
  },
  {
   "cell_type": "markdown",
   "id": "463e8769-b787-43fe-af7c-e2ecc365e80b",
   "metadata": {},
   "source": [
    "## PDO Thresholds"
   ]
  },
  {
   "cell_type": "code",
   "execution_count": 155,
   "id": "85876feb-2baa-4719-ac0a-9f10fb7bc1ba",
   "metadata": {},
   "outputs": [
    {
     "name": "stdout",
     "output_type": "stream",
     "text": [
      "Lag 1\n",
      "Avg. = 0.07378\n",
      "CI: = [-0.032025  0.177225]\n",
      "\n",
      "Lag 3\n",
      "Avg. = 0.08721\n",
      "CI: = [-0.032025  0.19815 ]\n",
      "\n",
      "Lag 6\n",
      "Avg. = 0.078545\n",
      "CI: = [-0.044225  0.222025]\n",
      "\n"
     ]
    }
   ],
   "source": [
    "pdo_surrs = pd.read_csv('./scripts/pdo_surrogates.csv')\n",
    "\n",
    "for l in pdo_surrs.lags.unique():\n",
    "    sub = pdo_surrs[pdo_surrs['lags']==l]\n",
    "    print('Lag {}'.format(l))\n",
    "    print('Avg. = {}'.format(sub.skill.mean()))\n",
    "    print('CI: = {}'.format(np.percentile(sub.skill, [2.5, 97.5])))\n",
    "    print('')"
   ]
  },
  {
   "cell_type": "markdown",
   "id": "27778e88-144d-4835-8100-5f4d5418a339",
   "metadata": {},
   "source": [
    "## ENSO Thresholds"
   ]
  },
  {
   "cell_type": "code",
   "execution_count": 160,
   "id": "35ff18f0-0fe4-464e-926d-1775794a2494",
   "metadata": {},
   "outputs": [
    {
     "name": "stdout",
     "output_type": "stream",
     "text": [
      "Lag 1\n",
      "Avg. = 0.015829999999999997\n",
      "CI: = [-0.09615   0.120225]\n",
      "\n",
      "Lag 3\n",
      "Avg. = 0.028225000000000004\n",
      "CI: = [-0.082075  0.126   ]\n",
      "\n",
      "Lag 6\n",
      "Avg. = 0.030680000000000006\n",
      "CI: = [-0.081     0.139175]\n",
      "\n"
     ]
    }
   ],
   "source": [
    "enso_surrs = pd.read_csv('./scripts/enso_surrogates.csv')\n",
    "\n",
    "for l in enso_surrs.lags.unique():\n",
    "    sub = enso_surrs[pdo_surrs['lags']==l]\n",
    "    print('Lag {}'.format(l))\n",
    "    print('Avg. = {}'.format(sub.skill.mean()))\n",
    "    print('CI: = {}'.format(np.percentile(sub.skill, [2.5, 97.5])))\n",
    "    print('')"
   ]
  },
  {
   "cell_type": "code",
   "execution_count": null,
   "id": "11f970ee-46a7-43b4-bb89-6ba9c3732ea1",
   "metadata": {},
   "outputs": [],
   "source": []
  }
 ],
 "metadata": {
  "kernelspec": {
   "display_name": "Python 3 (ipykernel)",
   "language": "python",
   "name": "python3"
  },
  "language_info": {
   "codemirror_mode": {
    "name": "ipython",
    "version": 3
   },
   "file_extension": ".py",
   "mimetype": "text/x-python",
   "name": "python",
   "nbconvert_exporter": "python",
   "pygments_lexer": "ipython3",
   "version": "3.9.18"
  }
 },
 "nbformat": 4,
 "nbformat_minor": 5
}
